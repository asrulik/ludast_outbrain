{
 "cells": [
  {
   "cell_type": "code",
   "execution_count": 1,
   "metadata": {
    "collapsed": false
   },
   "outputs": [],
   "source": [
    "import os\n",
    "import numpy as np\n",
    "import pandas as p\n",
    "import pickle\n",
    "from sklearn.linear_model import LogisticRegression\n",
    "from sklearn.model_selection import GridSearchCV\n",
    "from sklearn.model_selection import StratifiedKFold"
   ]
  },
  {
   "cell_type": "code",
   "execution_count": 2,
   "metadata": {
    "collapsed": false
   },
   "outputs": [],
   "source": [
    "#directory path and load functions file\n",
    "path = os.getcwd() + '/'\n",
    "path_t = path + 'source_tables/'\n",
    "path_b = path_t + 'built/'\n",
    "functions = path + 'functions.py'\n",
    "%run $functions"
   ]
  },
  {
   "cell_type": "code",
   "execution_count": 3,
   "metadata": {
    "collapsed": true
   },
   "outputs": [],
   "source": [
    "#set size of fraction to take from train and test, for full tables, fraction = 0\n",
    "fraction = 0.2\n",
    "\n",
    "#delete tables after merge with train/test, 1 to delete 0 to keep\n",
    "delete = 1"
   ]
  },
  {
   "cell_type": "code",
   "execution_count": 4,
   "metadata": {
    "collapsed": false
   },
   "outputs": [],
   "source": [
    "#load tables\n",
    "train = p.read_csv(path_b + 'train.csv', dtype={'display_id':int, 'ad_id':int, 'clicked':bool})\n",
    "test = p.read_csv(path_b + 'test.csv', dtype={'display_id':int, 'ad_id':int, 'clicked':bool})\n",
    "events = p.read_csv(path_b + 'events_prep.csv', dtype={'display_id':int, 'document_id':int, 'plat_1':int, 'plat_2':int, 'plat_3':int})\n",
    "promoted = p.read_csv(path_b + 'promoted_content_prep.csv', dtype = {'ad_id':int, 'document_id':int, 'campaign_id':int, 'advertiser_id':int})\n",
    "topics_categories = p.read_csv(path_b + 'topics_categories.csv', dtype={'document_id':int, 'topic_id':int, 'confi_top':float, 'category_id':int, 'confi_cat':float})"
   ]
  },
  {
   "cell_type": "code",
   "execution_count": 5,
   "metadata": {
    "collapsed": false
   },
   "outputs": [
    {
     "name": "stdout",
     "output_type": "stream",
     "text": [
      "(2621118, 3)\n",
      "(865401, 3)\n"
     ]
    }
   ],
   "source": [
    "if fraction:\n",
    "    train, test = fractioned(train,test,fraction)\n",
    "    print train.shape\n",
    "    print test.shape"
   ]
  },
  {
   "cell_type": "code",
   "execution_count": 6,
   "metadata": {
    "collapsed": false
   },
   "outputs": [
    {
     "name": "stdout",
     "output_type": "stream",
     "text": [
      "   display_id   ad_id clicked\n",
      "0     1976931  110242   False\n",
      "1     1976931  130952    True\n",
      "2     1976931  144088   False\n",
      "3     1976931  290431   False\n",
      "4      149301   93787   False\n"
     ]
    }
   ],
   "source": [
    "print train.head()"
   ]
  },
  {
   "cell_type": "code",
   "execution_count": 7,
   "metadata": {
    "collapsed": true
   },
   "outputs": [],
   "source": [
    "#add document_id and platform of display_id (as one hot)\n",
    "train = train.merge(events, how='left', on='display_id')\n",
    "test = test.merge(events, how='left', on='display_id')\n",
    "if delete:\n",
    "    del events"
   ]
  },
  {
   "cell_type": "code",
   "execution_count": 8,
   "metadata": {
    "collapsed": false
   },
   "outputs": [
    {
     "name": "stdout",
     "output_type": "stream",
     "text": [
      "   display_id   ad_id clicked  document_id  plat_1  plat_2  plat_3\n",
      "0     1976931  110242   False       380201       0       1       0\n",
      "1     1976931  130952    True       380201       0       1       0\n",
      "2     1976931  144088   False       380201       0       1       0\n",
      "3     1976931  290431   False       380201       0       1       0\n",
      "4      149301   93787   False      1697051       1       0       0\n"
     ]
    }
   ],
   "source": [
    "print train.head()"
   ]
  },
  {
   "cell_type": "code",
   "execution_count": 9,
   "metadata": {
    "collapsed": true
   },
   "outputs": [],
   "source": [
    "#add categories and topics and document of ads\n",
    "train = train.merge(promoted,how = 'left',on = 'ad_id')\n",
    "test = test.merge(promoted,how = 'left',on = 'ad_id')\n",
    "if delete:\n",
    "    del promoted"
   ]
  },
  {
   "cell_type": "code",
   "execution_count": 10,
   "metadata": {
    "collapsed": false
   },
   "outputs": [
    {
     "name": "stdout",
     "output_type": "stream",
     "text": [
      "   display_id   ad_id clicked  document_id  plat_1  plat_2  plat_3  \\\n",
      "0     1976931  110242   False       380201       0       1       0   \n",
      "1     1976931  130952    True       380201       0       1       0   \n",
      "2     1976931  144088   False       380201       0       1       0   \n",
      "3     1976931  290431   False       380201       0       1       0   \n",
      "4      149301   93787   False      1697051       1       0       0   \n",
      "\n",
      "   ad_document_id  campaign_id  advertiser_id  topic_id  confi_top  \\\n",
      "0         1127582        14185           1355       102   0.135783   \n",
      "1         1286844        16563            131       143   0.108567   \n",
      "2         1249632        11367           2681       142   0.088109   \n",
      "3         1332778        15891            571       260   0.189616   \n",
      "4         1130406         4080             16       129   0.024838   \n",
      "\n",
      "   category_id  confi_cat  \n",
      "0         1211   0.920000  \n",
      "1         1505   0.920000  \n",
      "2         1211   0.380363  \n",
      "3         1608   0.808691  \n",
      "4         1708   0.298863  \n"
     ]
    }
   ],
   "source": [
    "print train.head()"
   ]
  },
  {
   "cell_type": "code",
   "execution_count": 11,
   "metadata": {
    "collapsed": true
   },
   "outputs": [],
   "source": [
    "#add categories and topics of document\n",
    "train = train.merge(topics_categories, how='left', on='document_id',suffixes=('_ad', '_doc'))\n",
    "test = test.merge(topics_categories, how='left', on='document_id',suffixes=('_ad', '_doc'))\n",
    "if delete:\n",
    "    del topics_categories"
   ]
  },
  {
   "cell_type": "code",
   "execution_count": 12,
   "metadata": {
    "collapsed": false
   },
   "outputs": [
    {
     "name": "stdout",
     "output_type": "stream",
     "text": [
      "   display_id   ad_id clicked  document_id  plat_1  plat_2  plat_3  \\\n",
      "0     1976931  110242   False       380201       0       1       0   \n",
      "1     1976931  130952    True       380201       0       1       0   \n",
      "2     1976931  144088   False       380201       0       1       0   \n",
      "3     1976931  290431   False       380201       0       1       0   \n",
      "4      149301   93787   False      1697051       1       0       0   \n",
      "\n",
      "   ad_document_id  campaign_id  advertiser_id  topic_id_ad  confi_top_ad  \\\n",
      "0         1127582        14185           1355          102      0.135783   \n",
      "1         1286844        16563            131          143      0.108567   \n",
      "2         1249632        11367           2681          142      0.088109   \n",
      "3         1332778        15891            571          260      0.189616   \n",
      "4         1130406         4080             16          129      0.024838   \n",
      "\n",
      "   category_id_ad  confi_cat_ad  topic_id_doc  confi_top_doc  category_id_doc  \\\n",
      "0            1211      0.920000         238.0       0.016353           1203.0   \n",
      "1            1505      0.920000         238.0       0.016353           1203.0   \n",
      "2            1211      0.380363         238.0       0.016353           1203.0   \n",
      "3            1608      0.808691         238.0       0.016353           1203.0   \n",
      "4            1708      0.298863         174.0       0.104017           2004.0   \n",
      "\n",
      "   confi_cat_doc  \n",
      "0       0.315465  \n",
      "1       0.315465  \n",
      "2       0.315465  \n",
      "3       0.315465  \n",
      "4       0.920000  \n"
     ]
    }
   ],
   "source": [
    "print train.head()"
   ]
  },
  {
   "cell_type": "code",
   "execution_count": 13,
   "metadata": {
    "collapsed": false
   },
   "outputs": [],
   "source": [
    "#fill missing topics and categories confidences with 0 and ids with -1\n",
    "train.confi_top_doc = train.confi_top_doc.fillna(0)\n",
    "train.confi_cat_doc = train.confi_cat_doc.fillna(0)\n",
    "test.confi_top_doc = test.confi_top_doc.fillna(0)\n",
    "test.confi_cat_doc = test.confi_cat_doc.fillna(0)\n",
    "train = train.fillna(-1)\n",
    "test = test.fillna(-1)"
   ]
  },
  {
   "cell_type": "code",
   "execution_count": 14,
   "metadata": {
    "collapsed": false
   },
   "outputs": [],
   "source": [
    "#load dictionaries for correlation of topics and categories\n",
    "with open(path + 'dicts/dict_topic_0.2_3', 'rb') as handle:\n",
    "    top_dict = pickle.load(handle)\n",
    "with open(path + 'dicts/dict_category_0.4_3', 'rb') as handle:\n",
    "    cat_dict = pickle.load(handle)\n",
    "train, test = correlations(train, test, top_dict, cat_dict)\n",
    "if delete:\n",
    "    del top_dict, cat_dict"
   ]
  },
  {
   "cell_type": "code",
   "execution_count": 15,
   "metadata": {
    "collapsed": false
   },
   "outputs": [
    {
     "name": "stdout",
     "output_type": "stream",
     "text": [
      "   display_id   ad_id clicked  document_id  plat_1  plat_2  plat_3  \\\n",
      "0     1976931  110242   False       380201       0       1       0   \n",
      "1     1976931  130952    True       380201       0       1       0   \n",
      "2     1976931  144088   False       380201       0       1       0   \n",
      "3     1976931  290431   False       380201       0       1       0   \n",
      "4      149301   93787   False      1697051       1       0       0   \n",
      "\n",
      "   ad_document_id  campaign_id  advertiser_id  topic_id_ad  confi_top_ad  \\\n",
      "0         1127582        14185           1355          102      0.135783   \n",
      "1         1286844        16563            131          143      0.108567   \n",
      "2         1249632        11367           2681          142      0.088109   \n",
      "3         1332778        15891            571          260      0.189616   \n",
      "4         1130406         4080             16          129      0.024838   \n",
      "\n",
      "   category_id_ad  confi_cat_ad  topic_id_doc  confi_top_doc  category_id_doc  \\\n",
      "0            1211      0.920000         238.0       0.016353           1203.0   \n",
      "1            1505      0.920000         238.0       0.016353           1203.0   \n",
      "2            1211      0.380363         238.0       0.016353           1203.0   \n",
      "3            1608      0.808691         238.0       0.016353           1203.0   \n",
      "4            1708      0.298863         174.0       0.104017           2004.0   \n",
      "\n",
      "   confi_cat_doc   cor_top   cor_cat  \n",
      "0       0.315465  0.003222  0.411283  \n",
      "1       0.315465  0.002684  0.416033  \n",
      "2       0.315465  0.002023  0.170040  \n",
      "3       0.315465  0.004633  0.368866  \n",
      "4       0.920000  0.003728  0.394798  \n"
     ]
    }
   ],
   "source": [
    "print train.head()"
   ]
  },
  {
   "cell_type": "code",
   "execution_count": 16,
   "metadata": {
    "collapsed": true
   },
   "outputs": [],
   "source": [
    "#merge train and test with CTR and the time tables\n",
    "train, test = merge_ctrs_and_time(train, test)"
   ]
  },
  {
   "cell_type": "code",
   "execution_count": 18,
   "metadata": {
    "collapsed": false
   },
   "outputs": [
    {
     "name": "stdout",
     "output_type": "stream",
     "text": [
      "   display_id   ad_id clicked  document_id  plat_1  plat_2  plat_3  \\\n",
      "0     1976931  110242   False       380201       0       1       0   \n",
      "1     1976931  130952    True       380201       0       1       0   \n",
      "2     1976931  144088   False       380201       0       1       0   \n",
      "3     1976931  290431   False       380201       0       1       0   \n",
      "4      149301   93787   False      1697051       1       0       0   \n",
      "5      149301  153086   False      1697051       1       0       0   \n",
      "6      149301  180693   False      1697051       1       0       0   \n",
      "7      149301  198560   False      1697051       1       0       0   \n",
      "8      149301  199280   False      1697051       1       0       0   \n",
      "9      149301  289908    True      1697051       1       0       0   \n",
      "\n",
      "   ad_document_id  campaign_id  advertiser_id  ...    score_camp  \\\n",
      "0         1127582        14185           1355  ...      1.027231   \n",
      "1         1286844        16563            131  ...      1.231652   \n",
      "2         1249632        11367           2681  ...      0.510836   \n",
      "3         1332778        15891            571  ...      0.291471   \n",
      "4         1130406         4080             16  ...      2.320623   \n",
      "5         1376604        16270            252  ...      1.088963   \n",
      "6         1151028          674            769  ...      0.168798   \n",
      "7         1096827        23170           2418  ...      2.091746   \n",
      "8          200766        23247           3510  ...      1.282723   \n",
      "9         1688648        28060           3899  ...      1.573975   \n",
      "\n",
      "   score_docXad  score_docXad_doc  score_docXadv  score_docXcamp  weekend  \\\n",
      "0      0.677593          0.693252       0.742388        0.699200        0   \n",
      "1      0.985286          1.000944       1.050080        1.006893        0   \n",
      "2      0.677593          0.693252       0.742388        0.699200        0   \n",
      "3      0.629194          0.643734       0.689360        0.649258        0   \n",
      "4      1.016390          1.039878       1.113582        1.048801        0   \n",
      "5      1.016390          1.039878       1.113582        1.048801        0   \n",
      "6      1.016390          0.965601       1.034041        0.973886        0   \n",
      "7      1.016390          1.039878       1.113582        1.048801        0   \n",
      "8      1.016390          1.039878       1.113582        1.048801        0   \n",
      "9      1.477928          1.501416       1.251553        1.510339        0   \n",
      "\n",
      "   morning  noon  evening  night  \n",
      "0        1     0        0      0  \n",
      "1        1     0        0      0  \n",
      "2        1     0        0      0  \n",
      "3        1     0        0      0  \n",
      "4        0     0        1      0  \n",
      "5        0     0        1      0  \n",
      "6        0     0        1      0  \n",
      "7        0     0        1      0  \n",
      "8        0     0        1      0  \n",
      "9        0     0        1      0  \n",
      "\n",
      "[10 rows x 33 columns]\n"
     ]
    }
   ],
   "source": [
    "print train.head(10)"
   ]
  },
  {
   "cell_type": "code",
   "execution_count": null,
   "metadata": {
    "collapsed": true
   },
   "outputs": [],
   "source": [
    "#checkpoint of saving to pick the method of filling the ctr NAs \n",
    "#and for rerunning faster from ready-made feature tables\n",
    "\n",
    "#save\n",
    "train.to_csv(path_b + 'train_current.csv', index=False)\n",
    "test.to_csv(path_b + 'test_current.csv', index=False)"
   ]
  },
  {
   "cell_type": "code",
   "execution_count": null,
   "metadata": {
    "collapsed": true
   },
   "outputs": [],
   "source": [
    "#load\n",
    "train = p.read_csv(path_b + 'train_current.csv')\n",
    "test = p.read_csv(path_b + 'test_current.csv')"
   ]
  },
  {
   "cell_type": "code",
   "execution_count": 19,
   "metadata": {
    "collapsed": true
   },
   "outputs": [],
   "source": [
    "#fill NAs with medians\n",
    "test.score_ad = test.score_ad.fillna(test.score_ad.median())\n",
    "test.score_ad_doc = test.score_ad_doc.fillna(test.score_ad_doc.median())\n",
    "test.score_adv = test.score_adv.fillna(test.score_adv.median())\n",
    "test.score_camp = test.score_camp.fillna(test.score_camp.median())\n",
    "test.score_docXad = test.score_docXad.fillna(test.score_docXad.median())\n",
    "test.score_docXad_doc = test.score_docXad_doc.fillna(test.score_docXad_doc.median())\n",
    "test.score_docXadv = test.score_docXadv.fillna(test.score_docXadv.median())\n",
    "test.score_docXcamp = test.score_docXcamp.fillna(test.score_docXcamp.median())"
   ]
  },
  {
   "cell_type": "code",
   "execution_count": 29,
   "metadata": {
    "collapsed": true
   },
   "outputs": [],
   "source": [
    "#fill NAs with mean\n",
    "test.score_ad = test.score_ad.fillna(test.score_ad.mean())\n",
    "test.score_ad_doc = test.score_ad_doc.fillna(test.score_ad_doc.mean())\n",
    "test.score_adv = test.score_adv.fillna(test.score_adv.mean())\n",
    "test.score_camp = test.score_camp.fillna(test.score_camp.mean())\n",
    "test.score_docXad = test.score_docXad.fillna(test.score_docXad.mean())\n",
    "test.score_docXad_doc = test.score_docXad_doc.fillna(test.score_docXad_doc.mean())\n",
    "test.score_docXadv = test.score_docXadv.fillna(test.score_docXadv.mean())\n",
    "test.score_docXcamp = test.score_docXcamp.fillna(test.score_docXcamp.mean())"
   ]
  },
  {
   "cell_type": "code",
   "execution_count": 20,
   "metadata": {
    "collapsed": false
   },
   "outputs": [],
   "source": [
    "predictors=[x for x in train.columns if x not in ['display_id','ad_id','clicked','document_id','ad_document_id','campaign_id','advertiser_id','confi_top_ad','topic_id_ad','topic_id_doc','category_id_ad','confi_cat_ad','confi_top_doc','category_id_doc','confi_cat_doc']]"
   ]
  },
  {
   "cell_type": "code",
   "execution_count": 21,
   "metadata": {
    "collapsed": false,
    "scrolled": true
   },
   "outputs": [
    {
     "data": {
      "text/html": [
       "<div>\n",
       "<table border=\"1\" class=\"dataframe\">\n",
       "  <thead>\n",
       "    <tr style=\"text-align: right;\">\n",
       "      <th></th>\n",
       "      <th>plat_1</th>\n",
       "      <th>plat_2</th>\n",
       "      <th>plat_3</th>\n",
       "      <th>cor_top</th>\n",
       "      <th>cor_cat</th>\n",
       "      <th>score_ad</th>\n",
       "      <th>score_ad_doc</th>\n",
       "      <th>score_adv</th>\n",
       "      <th>score_camp</th>\n",
       "      <th>score_docXad</th>\n",
       "      <th>score_docXad_doc</th>\n",
       "      <th>score_docXadv</th>\n",
       "      <th>score_docXcamp</th>\n",
       "      <th>weekend</th>\n",
       "      <th>morning</th>\n",
       "      <th>noon</th>\n",
       "      <th>evening</th>\n",
       "      <th>night</th>\n",
       "    </tr>\n",
       "  </thead>\n",
       "  <tbody>\n",
       "    <tr>\n",
       "      <th>0</th>\n",
       "      <td>0</td>\n",
       "      <td>1</td>\n",
       "      <td>0</td>\n",
       "      <td>0.003222</td>\n",
       "      <td>0.411283</td>\n",
       "      <td>1.019082</td>\n",
       "      <td>1.017267</td>\n",
       "      <td>0.909733</td>\n",
       "      <td>1.027231</td>\n",
       "      <td>0.677593</td>\n",
       "      <td>0.693252</td>\n",
       "      <td>0.742388</td>\n",
       "      <td>0.699200</td>\n",
       "      <td>0</td>\n",
       "      <td>1</td>\n",
       "      <td>0</td>\n",
       "      <td>0</td>\n",
       "      <td>0</td>\n",
       "    </tr>\n",
       "    <tr>\n",
       "      <th>1</th>\n",
       "      <td>0</td>\n",
       "      <td>1</td>\n",
       "      <td>0</td>\n",
       "      <td>0.002684</td>\n",
       "      <td>0.416033</td>\n",
       "      <td>1.343629</td>\n",
       "      <td>1.287471</td>\n",
       "      <td>1.215249</td>\n",
       "      <td>1.231652</td>\n",
       "      <td>0.985286</td>\n",
       "      <td>1.000944</td>\n",
       "      <td>1.050080</td>\n",
       "      <td>1.006893</td>\n",
       "      <td>0</td>\n",
       "      <td>1</td>\n",
       "      <td>0</td>\n",
       "      <td>0</td>\n",
       "      <td>0</td>\n",
       "    </tr>\n",
       "    <tr>\n",
       "      <th>2</th>\n",
       "      <td>0</td>\n",
       "      <td>1</td>\n",
       "      <td>0</td>\n",
       "      <td>0.002023</td>\n",
       "      <td>0.170040</td>\n",
       "      <td>0.492982</td>\n",
       "      <td>0.516392</td>\n",
       "      <td>0.524011</td>\n",
       "      <td>0.510836</td>\n",
       "      <td>0.677593</td>\n",
       "      <td>0.693252</td>\n",
       "      <td>0.742388</td>\n",
       "      <td>0.699200</td>\n",
       "      <td>0</td>\n",
       "      <td>1</td>\n",
       "      <td>0</td>\n",
       "      <td>0</td>\n",
       "      <td>0</td>\n",
       "    </tr>\n",
       "    <tr>\n",
       "      <th>3</th>\n",
       "      <td>0</td>\n",
       "      <td>1</td>\n",
       "      <td>0</td>\n",
       "      <td>0.004633</td>\n",
       "      <td>0.368866</td>\n",
       "      <td>0.328051</td>\n",
       "      <td>0.328201</td>\n",
       "      <td>0.277804</td>\n",
       "      <td>0.291471</td>\n",
       "      <td>0.629194</td>\n",
       "      <td>0.643734</td>\n",
       "      <td>0.689360</td>\n",
       "      <td>0.649258</td>\n",
       "      <td>0</td>\n",
       "      <td>1</td>\n",
       "      <td>0</td>\n",
       "      <td>0</td>\n",
       "      <td>0</td>\n",
       "    </tr>\n",
       "    <tr>\n",
       "      <th>4</th>\n",
       "      <td>1</td>\n",
       "      <td>0</td>\n",
       "      <td>0</td>\n",
       "      <td>0.003728</td>\n",
       "      <td>0.394798</td>\n",
       "      <td>1.892163</td>\n",
       "      <td>1.892960</td>\n",
       "      <td>1.566710</td>\n",
       "      <td>2.320623</td>\n",
       "      <td>1.016390</td>\n",
       "      <td>1.039878</td>\n",
       "      <td>1.113582</td>\n",
       "      <td>1.048801</td>\n",
       "      <td>0</td>\n",
       "      <td>0</td>\n",
       "      <td>0</td>\n",
       "      <td>1</td>\n",
       "      <td>0</td>\n",
       "    </tr>\n",
       "  </tbody>\n",
       "</table>\n",
       "</div>"
      ],
      "text/plain": [
       "   plat_1  plat_2  plat_3   cor_top   cor_cat  score_ad  score_ad_doc  \\\n",
       "0       0       1       0  0.003222  0.411283  1.019082      1.017267   \n",
       "1       0       1       0  0.002684  0.416033  1.343629      1.287471   \n",
       "2       0       1       0  0.002023  0.170040  0.492982      0.516392   \n",
       "3       0       1       0  0.004633  0.368866  0.328051      0.328201   \n",
       "4       1       0       0  0.003728  0.394798  1.892163      1.892960   \n",
       "\n",
       "   score_adv  score_camp  score_docXad  score_docXad_doc  score_docXadv  \\\n",
       "0   0.909733    1.027231      0.677593          0.693252       0.742388   \n",
       "1   1.215249    1.231652      0.985286          1.000944       1.050080   \n",
       "2   0.524011    0.510836      0.677593          0.693252       0.742388   \n",
       "3   0.277804    0.291471      0.629194          0.643734       0.689360   \n",
       "4   1.566710    2.320623      1.016390          1.039878       1.113582   \n",
       "\n",
       "   score_docXcamp  weekend  morning  noon  evening  night  \n",
       "0        0.699200        0        1     0        0      0  \n",
       "1        1.006893        0        1     0        0      0  \n",
       "2        0.699200        0        1     0        0      0  \n",
       "3        0.649258        0        1     0        0      0  \n",
       "4        1.048801        0        0     0        1      0  "
      ]
     },
     "execution_count": 21,
     "metadata": {},
     "output_type": "execute_result"
    }
   ],
   "source": [
    "train[predictors].head()"
   ]
  },
  {
   "cell_type": "code",
   "execution_count": null,
   "metadata": {
    "collapsed": false
   },
   "outputs": [
    {
     "name": "stderr",
     "output_type": "stream",
     "text": [
      "/Users/astrachan/anaconda/lib/python2.7/site-packages/sklearn/externals/joblib/parallel.py:540: UserWarning: Multiprocessing-backed parallel loops cannot be nested, setting n_jobs=1\n",
      "  **self._backend_args)\n",
      "/Users/astrachan/anaconda/lib/python2.7/site-packages/sklearn/externals/joblib/parallel.py:540: UserWarning: Multiprocessing-backed parallel loops cannot be nested, setting n_jobs=1\n",
      "  **self._backend_args)\n",
      "/Users/astrachan/anaconda/lib/python2.7/site-packages/sklearn/externals/joblib/parallel.py:540: UserWarning: Multiprocessing-backed parallel loops cannot be nested, setting n_jobs=1\n",
      "  **self._backend_args)\n",
      "/Users/astrachan/anaconda/lib/python2.7/site-packages/sklearn/externals/joblib/parallel.py:540: UserWarning: Multiprocessing-backed parallel loops cannot be nested, setting n_jobs=1\n",
      "  **self._backend_args)\n"
     ]
    }
   ],
   "source": [
    "#multi_class, fit_intercept, intercept_scaling, dual, random_state, solver, verbose, pentaly, class weights\n",
    "alg = LogisticRegression(verbose=0, n_jobs=4)\n",
    "log_params = {'C' : [10 ** i for i in range(-12,2)], 'solver' : ['lbfgs', 'sag'], 'class_weight' : ['none', 'balanced']}\n",
    "grid_log = GridSearchCV(alg, log_params, n_jobs=4, verbose=0)\n",
    "grid_log.fit(train[predictors], train['clicked'])"
   ]
  },
  {
   "cell_type": "code",
   "execution_count": 188,
   "metadata": {
    "collapsed": false
   },
   "outputs": [
    {
     "name": "stdout",
     "output_type": "stream",
     "text": [
      "MAP: 0.649737819877\n",
      "MAP: 0.650101485384\n",
      "MAP: 0.649530906309\n",
      "MAP: 0.648415965659\n",
      "MAP: 0.649764846759\n",
      "MAP: 0.648138087874\n",
      "MAP: 0.648183828897\n",
      "MAP: 0.644473403284\n",
      "MAP: 0.649984732469\n",
      "MAP: 0.649957822527\n",
      "MAP: 0.649530906309\n",
      "MAP: 0.648415965659\n",
      "MAP: 0.649764846759\n",
      "MAP: 0.648138087874\n",
      "MAP: 0.648183828897\n",
      "MAP: 0.644473403284\n",
      "MAP: 0.648364339188\n",
      "MAP: 0.649261721798\n",
      "MAP: 0.649435152663\n",
      "MAP: 0.648558998070\n",
      "MAP: 0.649458393875\n",
      "MAP: 0.648269543077\n",
      "MAP: 0.648202286499\n",
      "MAP: 0.643961837954\n",
      "MAP: 0.649194778412\n",
      "MAP: 0.649657418206\n",
      "MAP: 0.649435152663\n",
      "MAP: 0.648558998070\n",
      "MAP: 0.649458393875\n",
      "MAP: 0.648269543077\n",
      "MAP: 0.648202286499\n",
      "MAP: 0.643961837954\n",
      "MAP: 0.646508970320\n",
      "MAP: 0.648178032597\n",
      "MAP: 0.648959976844\n",
      "MAP: 0.648811248611\n",
      "MAP: 0.649307606911\n",
      "MAP: 0.649078135810\n",
      "MAP: 0.648830938672\n",
      "MAP: 0.643811842843\n",
      "MAP: 0.648075269005\n",
      "MAP: 0.649584920950\n",
      "MAP: 0.648959976844\n",
      "MAP: 0.648811248611\n",
      "MAP: 0.649307606911\n",
      "MAP: 0.649078135810\n",
      "MAP: 0.648830938672\n",
      "MAP: 0.643811842843\n",
      "MAP: 0.639095776162\n",
      "MAP: 0.642051811385\n",
      "MAP: 0.644669666180\n",
      "MAP: 0.647005432732\n",
      "MAP: 0.645116522585\n",
      "MAP: 0.647542650319\n",
      "MAP: 0.647390003443\n",
      "MAP: 0.642409965778\n",
      "MAP: 0.641740917799\n",
      "MAP: 0.645174161490\n",
      "MAP: 0.644669666180\n",
      "MAP: 0.647005432732\n",
      "MAP: 0.645116522585\n",
      "MAP: 0.647542650319\n",
      "MAP: 0.647390003443\n",
      "MAP: 0.642409965778\n",
      "MAP: 0.642848909858\n",
      "MAP: 0.644704479041\n",
      "MAP: 0.645636104993\n",
      "MAP: 0.645579142283\n",
      "MAP: 0.645584567670\n",
      "MAP: 0.645013694002\n",
      "MAP: 0.645260777834\n",
      "MAP: 0.639343421816\n",
      "MAP: 0.644507316973\n",
      "MAP: 0.645950542247\n",
      "MAP: 0.645636104993\n",
      "MAP: 0.645579142283\n",
      "MAP: 0.645584567670\n",
      "MAP: 0.645013694002\n",
      "MAP: 0.645260777834\n",
      "MAP: 0.639343421816\n",
      "MAP: 0.630054012589\n",
      "MAP: 0.633018640181\n",
      "MAP: 0.635322216777\n",
      "MAP: 0.638172446702\n",
      "MAP: 0.635388923077\n",
      "MAP: 0.637053957254\n",
      "MAP: 0.637921259945\n",
      "MAP: 0.628936031303\n",
      "MAP: 0.632579624484\n",
      "MAP: 0.635809293044\n",
      "MAP: 0.635322216777\n",
      "MAP: 0.638172446702\n",
      "MAP: 0.635388923077\n",
      "MAP: 0.637053957254\n",
      "MAP: 0.637921259945\n",
      "MAP: 0.628936031303\n",
      "MAP: 0.637281957955\n",
      "MAP: 0.640284879010\n",
      "MAP: 0.642497367988\n",
      "MAP: 0.645244281906\n",
      "MAP: 0.642805089248\n",
      "MAP: 0.645348519746\n",
      "MAP: 0.645009390122\n",
      "MAP: 0.640173957456\n",
      "MAP: 0.640007398006\n",
      "MAP: 0.643371339215\n",
      "MAP: 0.642497367988\n",
      "MAP: 0.645244281906\n",
      "MAP: 0.642805089248\n",
      "MAP: 0.645348519746\n",
      "MAP: 0.645009390122\n",
      "MAP: 0.640173957456\n",
      "MAP: 0.549637258250\n",
      "MAP: 0.549713965749\n",
      "MAP: 0.545236893136\n",
      "MAP: 0.543639503126\n",
      "MAP: 0.551470082626\n",
      "MAP: 0.550811424290\n",
      "MAP: 0.543415479217\n",
      "MAP: 0.471305813562\n",
      "MAP: 0.550340231035\n",
      "MAP: 0.551005481800\n",
      "MAP: 0.545236893136\n",
      "MAP: 0.543639503126\n",
      "MAP: 0.551470082626\n",
      "MAP: 0.550811424290\n",
      "MAP: 0.543415479217\n",
      "MAP: 0.471305813562\n",
      "MAP: 0.648144376302\n",
      "MAP: 0.648995926389\n",
      "MAP: 0.649200558251\n",
      "MAP: 0.648339411015\n",
      "MAP: 0.649349415181\n",
      "MAP: 0.648066097925\n",
      "MAP: 0.648186941792\n",
      "MAP: 0.643491152648\n",
      "MAP: 0.648979556379\n",
      "MAP: 0.649508424883\n",
      "MAP: 0.649200558251\n",
      "MAP: 0.648339411015\n",
      "MAP: 0.649349415181\n",
      "MAP: 0.648066097925\n",
      "MAP: 0.648186941792\n",
      "MAP: 0.643491152648\n",
      "MAP: 0.644775932608\n",
      "MAP: 0.646665471064\n",
      "MAP: 0.647434966937\n",
      "MAP: 0.647480934143\n",
      "MAP: 0.647673724560\n",
      "MAP: 0.647242097633\n",
      "MAP: 0.647480757344\n",
      "MAP: 0.641623179558\n",
      "MAP: 0.646396033861\n",
      "MAP: 0.647661186184\n",
      "MAP: 0.647434966937\n",
      "MAP: 0.647480934143\n",
      "MAP: 0.647673724560\n",
      "MAP: 0.647242097633\n",
      "MAP: 0.647480757344\n",
      "MAP: 0.641623179558\n",
      "MAP: 0.646508970320\n",
      "MAP: 0.648178032597\n",
      "MAP: 0.648959976844\n",
      "MAP: 0.648811248611\n",
      "MAP: 0.649307606911\n",
      "MAP: 0.649078135810\n",
      "MAP: 0.648830938672\n",
      "MAP: 0.643811842843\n",
      "MAP: 0.648075269005\n",
      "MAP: 0.649584920950\n",
      "MAP: 0.648959976844\n",
      "MAP: 0.648811248611\n",
      "MAP: 0.649307606911\n",
      "MAP: 0.649078135810\n",
      "MAP: 0.648830938672\n",
      "MAP: 0.643811842843\n",
      "MAP: 0.639095776162\n",
      "MAP: 0.642051811385\n",
      "MAP: 0.644669666180\n",
      "MAP: 0.647005432732\n",
      "MAP: 0.645116522585\n",
      "MAP: 0.647542650319\n",
      "MAP: 0.647390003443\n",
      "MAP: 0.642409965778\n",
      "MAP: 0.641740917799\n",
      "MAP: 0.645174161490\n",
      "MAP: 0.644669666180\n",
      "MAP: 0.647005432732\n",
      "MAP: 0.645116522585\n",
      "MAP: 0.647542650319\n",
      "MAP: 0.647390003443\n",
      "MAP: 0.642409965778\n",
      "MAP: 0.642848909858\n",
      "MAP: 0.644704479041\n",
      "MAP: 0.645636104993\n",
      "MAP: 0.645579142283\n",
      "MAP: 0.645584567670\n",
      "MAP: 0.645013694002\n",
      "MAP: 0.645260777834\n",
      "MAP: 0.639343421816\n",
      "MAP: 0.644507316973\n",
      "MAP: 0.645950542247\n",
      "MAP: 0.645636104993\n",
      "MAP: 0.645579142283\n",
      "MAP: 0.645584567670\n",
      "MAP: 0.645013694002\n",
      "MAP: 0.645260777834\n",
      "MAP: 0.639343421816\n",
      "MAP: 0.630054012589\n",
      "MAP: 0.633018640181\n",
      "MAP: 0.635322216777\n",
      "MAP: 0.638172446702\n",
      "MAP: 0.635388923077\n",
      "MAP: 0.637053957254\n",
      "MAP: 0.637921259945\n",
      "MAP: 0.628936031303\n",
      "MAP: 0.632579624484\n",
      "MAP: 0.635809293044\n",
      "MAP: 0.635322216777\n",
      "MAP: 0.638172446702\n",
      "MAP: 0.635388923077\n",
      "MAP: 0.637053957254\n",
      "MAP: 0.637921259945\n",
      "MAP: 0.628936031303\n",
      "MAP: 0.637281957955\n",
      "MAP: 0.640284879010\n",
      "MAP: 0.642497367988\n",
      "MAP: 0.645244281906\n",
      "MAP: 0.642805089248\n",
      "MAP: 0.645348519746\n",
      "MAP: 0.645009390122\n",
      "MAP: 0.640173957456\n",
      "MAP: 0.640007398006\n",
      "MAP: 0.643371339215\n",
      "MAP: 0.642497367988\n",
      "MAP: 0.645244281906\n",
      "MAP: 0.642805089248\n",
      "MAP: 0.645348519746\n",
      "MAP: 0.645009390122\n",
      "MAP: 0.640173957456\n",
      "MAP: 0.549637258250\n",
      "MAP: 0.549713965749\n",
      "MAP: 0.545236893136\n",
      "MAP: 0.543639503126\n",
      "MAP: 0.551470082626\n",
      "MAP: 0.550811424290\n",
      "MAP: 0.543415479217\n",
      "MAP: 0.471305813562\n",
      "MAP: 0.550340231035\n",
      "MAP: 0.551005481800\n",
      "MAP: 0.545236893136\n",
      "MAP: 0.543639503126\n",
      "MAP: 0.551470082626\n",
      "MAP: 0.550811424290\n",
      "MAP: 0.543415479217\n",
      "MAP: 0.471305813562\n"
     ]
    }
   ],
   "source": [
    "#[i -> score_ad, j -> score_ad_doc, k->score_adv, l->score_camp, t->score_docXad,n->score_docXad_doc,m->score_docXadv,p->score_docXcamp]\n",
    "i_l = ['','score_ad']\n",
    "j_l = ['','score_ad_doc']\n",
    "k_l = ['','score_adv']\n",
    "l_l = ['','score_camp']\n",
    "t_l = ['','score_docXad']\n",
    "n_l = ['','score_docXad_doc']\n",
    "m_l = ['','score_docXadv']\n",
    "p_l = ['','score_docXcamp']\n",
    "results = [0] * 256\n",
    "for i in range(2):\n",
    "    for j in range(2):\n",
    "        for k in range(2):\n",
    "            for l in range(2):\n",
    "                for t in range(2):\n",
    "                    for n in range(2):\n",
    "                        for m in range(2):\n",
    "                            for p in range(2):\n",
    "                                predictors=[x for x in train.columns if x not in ['display_id','ad_id','clicked','document_id','ad_document_id','campaign_id','advertiser_id','confi_top_ad','topic_id_ad','topic_id_doc','category_id_ad','confi_cat_ad','confi_top_doc','category_id_doc','confi_cat_doc']]\n",
    "                                to_reduce = i_l[i] + j_l[j] + k_l[k] + l_l[l] + t_l[t] + n_l[n] + m_l[m] + p_l[p]\n",
    "                                predictors = [x for x in predictors if x not in to_reduce]\n",
    "                                alg = LogisticRegression(C = 0.0000000001, solver = 'lbfgs')\n",
    "                                alg.fit(train[predictors], train['clicked'])\n",
    "                                predY = list(alg.predict_proba(test[predictors]).astype(float)[:,1])\n",
    "                                predict = np.asarray(predY)\n",
    "                                test_copy = test.copy()\n",
    "                                test_copy['predict'] = predict\n",
    "                                results[i + j * 2 + k * 4 + l * 8 + t * 16 + n * 32 + m * 64 + p * 128] = score_map(test_copy)"
   ]
  },
  {
   "cell_type": "code",
   "execution_count": 22,
   "metadata": {
    "collapsed": false
   },
   "outputs": [
    {
     "data": {
      "text/plain": [
       "LogisticRegression(C=1e-10, class_weight='balanced', dual=False,\n",
       "          fit_intercept=True, intercept_scaling=1, max_iter=100,\n",
       "          multi_class='ovr', n_jobs=1, penalty='l2', random_state=None,\n",
       "          solver='lbfgs', tol=0.0001, verbose=0, warm_start=False)"
      ]
     },
     "execution_count": 22,
     "metadata": {},
     "output_type": "execute_result"
    }
   ],
   "source": [
    "alg = LogisticRegression(C = 0.0000000001, solver = 'lbfgs', class_weight='balanced')\n",
    "alg.fit(train[predictors], train['clicked'])"
   ]
  },
  {
   "cell_type": "code",
   "execution_count": 23,
   "metadata": {
    "collapsed": false
   },
   "outputs": [
    {
     "name": "stdout",
     "output_type": "stream",
     "text": [
      "MAP: 0.650310049357\n",
      "PORTION: 0.445561804078\n"
     ]
    }
   ],
   "source": [
    "predY = list(alg.predict_proba(test[predictors]).astype(float)[:,1])\n",
    "predict = np.asarray(predY)\n",
    "test_copy = test.copy()\n",
    "test_copy['predict'] = predict\n",
    "map_score = score_map(test_copy)\n",
    "portion_score = score_portion(test_copy)"
   ]
  },
  {
   "cell_type": "code",
   "execution_count": null,
   "metadata": {
    "collapsed": true
   },
   "outputs": [],
   "source": [
    "print portion_score\n",
    "print map_score\n",
    "print values\n",
    "0.649734852141 -> no docXad 0.649983074581\n",
    "\n",
    "0.650101485384 -> no score_docXcamp\n",
    "0.650121732777 -> no score_docXcamp, no platform\n",
    "0.650124145533 -> no score_docXcamp, no platform, no cor_top\n",
    "0.650107933508 -> no score_docXcamp, no platform, no cor_top, no cor_cat\n",
    "0.650126784043 -> no score_docXcamp, no platform, no cor_top, no cor_cat, no times\n",
    "\n",
    "\n",
    "0.659890146771 c = 0.0000000001 solver = lbfgs, no corellations"
   ]
  }
 ],
 "metadata": {
  "anaconda-cloud": {},
  "kernelspec": {
   "display_name": "Python [default]",
   "language": "python",
   "name": "python2"
  },
  "language_info": {
   "codemirror_mode": {
    "name": "ipython",
    "version": 2
   },
   "file_extension": ".py",
   "mimetype": "text/x-python",
   "name": "python",
   "nbconvert_exporter": "python",
   "pygments_lexer": "ipython2",
   "version": "2.7.12"
  }
 },
 "nbformat": 4,
 "nbformat_minor": 1
}
