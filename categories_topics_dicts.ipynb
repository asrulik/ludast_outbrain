{
 "cells": [
  {
   "cell_type": "code",
   "execution_count": 1,
   "metadata": {
    "collapsed": false
   },
   "outputs": [],
   "source": [
    "path = \"/Users/astrachan/Desktop/outbrain/\"\n",
    "#which confidence level to eliminate\n",
    "confidence_cut_category = 0.4\n",
    "confidence_cut_topic = 0.2\n",
    "\n",
    "#which portion of top scores to take\n",
    "score_cut_category = 3\n",
    "score_cut_topic = 3"
   ]
  },
  {
   "cell_type": "code",
   "execution_count": 2,
   "metadata": {
    "collapsed": true
   },
   "outputs": [],
   "source": [
    "import numpy as np\n",
    "import pandas as p\n",
    "import pickle\n",
    "\n",
    "path_t = path + \"source_tables/\"\n",
    "path_b = path_t + \"built/\"\n",
    "\n",
    "document_on_ad_document_ctr = p.read_csv(path_b + \"document_on_ad_document_ctr.csv\", dtype={\"document_id\": int, \"ad_document_id\":int, \"score\": float})\n",
    "documents_categories = p.read_csv(path_t + \"documents_categories.csv\", dtype = {\"document_id\":int, \"category_id\":int, \"confidence_level\":float})\n",
    "documents_topics = p.read_csv(\"/Users/astrachan/Desktop/outbrain/source_tables/documents_topics.csv\", dtype = {\"document_id\":int, \"topic_id\":int, \"confidence_level\":float})"
   ]
  },
  {
   "cell_type": "code",
   "execution_count": 4,
   "metadata": {
    "collapsed": false
   },
   "outputs": [],
   "source": [
    "#get only highest confidence topic and category\n",
    "max_rows = documents_categories.groupby(['document_id'])['confidence_level'].transform(max) == documents_categories['confidence_level']\n",
    "documents_categories = documents_categories[max_rows].drop_duplicates(subset = ['document_id','confidence_level'],keep = 'last')\n",
    "max_rows = documents_topics.groupby(['document_id'])['confidence_level'].transform(max) == documents_topics['confidence_level']\n",
    "documents_topics = documents_topics[max_rows].drop_duplicates(subset = ['document_id','confidence_level'],keep = 'last')\n",
    "del max_rows"
   ]
  },
  {
   "cell_type": "code",
   "execution_count": 5,
   "metadata": {
    "collapsed": false
   },
   "outputs": [
    {
     "name": "stdout",
     "output_type": "stream",
     "text": [
      "category ids precent: 1.0\n",
      "unique category ids: 95\n"
     ]
    }
   ],
   "source": [
    "#remove category ids below a certain confidence level and merge promoted with documents_categories_reduced\n",
    "documents_categories_reduced = documents_categories[documents_categories['confidence_level'] > confidence_cut_category].drop(\"confidence_level\", axis = 1)\n",
    "print 'category ids precent: ' + repr(float(len(documents_categories_reduced.category_id.unique())) / len(documents_categories.category_id.unique()))\n",
    "print 'unique category ids: ' + repr(len(documents_categories_reduced.category_id.unique()))"
   ]
  },
  {
   "cell_type": "code",
   "execution_count": 6,
   "metadata": {
    "collapsed": false
   },
   "outputs": [
    {
     "name": "stdout",
     "output_type": "stream",
     "text": [
      "(7719955, 3)\n",
      "precentage taken: 0.3333333333333333\n",
      "minimal score taken: 1.0352447964700002\n"
     ]
    }
   ],
   "source": [
    "#take only highest scored ad_on_doc\n",
    "document_on_ad_document_ctr_categories = document_on_ad_document_ctr[:document_on_ad_document_ctr.shape[0] / score_cut_category]\n",
    "print document_on_ad_document_ctr_categories.shape\n",
    "print 'precentage taken: ' + repr(float(document_on_ad_document_ctr_categories.shape[0]) / document_on_ad_document_ctr.shape[0])\n",
    "print 'minimal score taken: ' + repr(document_on_ad_document_ctr_categories.score.min())"
   ]
  },
  {
   "cell_type": "code",
   "execution_count": 7,
   "metadata": {
    "collapsed": false
   },
   "outputs": [
    {
     "name": "stdout",
     "output_type": "stream",
     "text": [
      "   document_id  category_id\n",
      "0      1595802         1611\n",
      "2      1524246         1807\n",
      "4      1617787         1807\n",
      "6      1615583         1305\n",
      "8      1615460         1613\n",
      "   document_id  ad_document_id     score\n",
      "0      1026091          898071  7.518608\n",
      "1       961361         1290377  7.247171\n",
      "2       961313         1585630  7.202495\n",
      "3      2115556         1418830  7.192435\n",
      "4      1976713          973567  7.044363\n"
     ]
    }
   ],
   "source": [
    "print documents_categories_reduced.head()\n",
    "print document_on_ad_document_ctr_categories.head()"
   ]
  },
  {
   "cell_type": "code",
   "execution_count": 8,
   "metadata": {
    "collapsed": false
   },
   "outputs": [],
   "source": [
    "#merge with category ids of doc and ad\n",
    "document_on_ad_document_ctr_categories = document_on_ad_document_ctr_categories.merge(documents_categories_reduced, how='left', on='document_id')\n",
    "documents_categories_reduced.rename(columns={'document_id': 'ad_document_id'}, inplace=True)\n",
    "document_on_ad_document_ctr_categories = document_on_ad_document_ctr_categories.merge(documents_categories_reduced, how='left', on='ad_document_id', suffixes=('_doc','_ad'))"
   ]
  },
  {
   "cell_type": "code",
   "execution_count": 9,
   "metadata": {
    "collapsed": false
   },
   "outputs": [
    {
     "data": {
      "text/plain": [
       "document_id              0\n",
       "ad_document_id           0\n",
       "score                    0\n",
       "category_id_doc    1251708\n",
       "category_id_ad      824575\n",
       "dtype: int64"
      ]
     },
     "execution_count": 9,
     "metadata": {},
     "output_type": "execute_result"
    }
   ],
   "source": [
    "document_on_ad_document_ctr_categories.isnull().sum()"
   ]
  },
  {
   "cell_type": "code",
   "execution_count": 10,
   "metadata": {
    "collapsed": false
   },
   "outputs": [],
   "source": [
    "#drop lines with nulls, ad_id and doc_id columns\n",
    "document_on_ad_document_ctr_categories = document_on_ad_document_ctr_categories.dropna()\n",
    "document_on_ad_document_ctr_categories.drop(document_on_ad_document_ctr_categories.columns[[0,1]],axis = 1,inplace=True)\n",
    "document_on_ad_document_ctr_categories.reset_index(drop=True, inplace=True)"
   ]
  },
  {
   "cell_type": "code",
   "execution_count": 11,
   "metadata": {
    "collapsed": false
   },
   "outputs": [
    {
     "name": "stdout",
     "output_type": "stream",
     "text": [
      "(5783348, 3)\n",
      "89\n",
      "92\n"
     ]
    }
   ],
   "source": [
    "print document_on_ad_document_ctr_categories.shape\n",
    "print len(document_on_ad_document_ctr_categories.category_id_doc.unique())\n",
    "print len(document_on_ad_document_ctr_categories.category_id_ad.unique())"
   ]
  },
  {
   "cell_type": "code",
   "execution_count": 12,
   "metadata": {
    "collapsed": false
   },
   "outputs": [],
   "source": [
    "#put lower category_id of both on left side\n",
    "for i, row in enumerate(document_on_ad_document_ctr_categories.itertuples()):\n",
    "    if row.category_id_doc > row.category_id_ad:\n",
    "        ad = row.category_id_ad\n",
    "        doc = row.category_id_doc\n",
    "        document_on_ad_document_ctr_categories.set_value(i,'category_id_doc', ad)\n",
    "        document_on_ad_document_ctr_categories.set_value(i,'category_id_ad', doc)\n",
    "document_on_ad_document_ctr_categories.rename(columns={'category_id_doc' : 'category_id_l', 'category_id_ad' : 'category_id_r'},inplace=True)"
   ]
  },
  {
   "cell_type": "code",
   "execution_count": 13,
   "metadata": {
    "collapsed": false
   },
   "outputs": [
    {
     "name": "stdout",
     "output_type": "stream",
     "text": [
      "   category_id_l  category_id_r  count  mean_score\n",
      "0         1000.0         1000.0    557    1.467992\n",
      "1         1000.0         1100.0    304    1.479777\n",
      "2         1000.0         1202.0     13    1.504668\n",
      "3         1000.0         1203.0     29    1.538833\n",
      "4         1000.0         1204.0     29    1.469953\n",
      "92\n",
      "92\n",
      "1.45648935831\n",
      "2.75464024239\n",
      "(3955, 4)\n"
     ]
    }
   ],
   "source": [
    "#count how many times each pair shows, and reduce by number of shows\n",
    "#keep top 20% score even if count is 1\n",
    "high_score = document_on_ad_document_ctr_categories.score.quantile(q=0.8, interpolation='higher')\n",
    "doc_ad_doc_count = document_on_ad_document_ctr_categories.groupby(['category_id_l','category_id_r']).score.agg({'mean_score' : 'mean', 'count' : 'count'}).reset_index()\n",
    "doc_ad_doc_count = doc_ad_doc_count[(doc_ad_doc_count['count'] > 1) | (doc_ad_doc_count['mean_score'] > high_score)]\n",
    "print doc_ad_doc_count.head()\n",
    "print len(doc_ad_doc_count.category_id_l.unique())\n",
    "print len(doc_ad_doc_count.category_id_r.unique())\n",
    "print doc_ad_doc_count.mean_score.mean()\n",
    "print doc_ad_doc_count.mean_score.max()\n",
    "print doc_ad_doc_count.shape"
   ]
  },
  {
   "cell_type": "code",
   "execution_count": 14,
   "metadata": {
    "collapsed": false
   },
   "outputs": [],
   "source": [
    "#create a dictionary, for each tuple (x_category,y_category) where x_category < y_category return the mean_score\n",
    "dict_category = {}\n",
    "for row in doc_ad_doc_count.itertuples():\n",
    "    key = (row.category_id_l,row.category_id_r)\n",
    "    key_r = (row.category_id_r,row.category_id_l)\n",
    "    score = row.mean_score\n",
    "    dict_category[key] = score\n",
    "    dict_category[key_r] = score"
   ]
  },
  {
   "cell_type": "code",
   "execution_count": 15,
   "metadata": {
    "collapsed": false
   },
   "outputs": [],
   "source": [
    "#save dictionary to file\n",
    "with open(path + 'dicts/dict_category_' + repr(confidence_cut_category) + '_' + repr(score_cut_category), 'ab') as handle:\n",
    "    pickle.dump(dict_category, handle)"
   ]
  },
  {
   "cell_type": "code",
   "execution_count": null,
   "metadata": {
    "collapsed": true
   },
   "outputs": [],
   "source": []
  },
  {
   "cell_type": "code",
   "execution_count": 16,
   "metadata": {
    "collapsed": false
   },
   "outputs": [
    {
     "name": "stdout",
     "output_type": "stream",
     "text": [
      "topics ids precent: 0.9966666666666667\n",
      "unique topics ids: 299\n"
     ]
    }
   ],
   "source": [
    "#remove category ids below a certain confidence level and merge promoted with documents_categories_reduced\n",
    "documents_topics_reduced = documents_topics[documents_topics['confidence_level'] > confidence_cut_topic].drop(\"confidence_level\", axis = 1)\n",
    "print 'topics ids precent: ' + repr(float(len(documents_topics_reduced.topic_id.unique())) / len(documents_topics.topic_id.unique()))\n",
    "print 'unique topics ids: ' + repr(len(documents_topics_reduced.topic_id.unique()))"
   ]
  },
  {
   "cell_type": "code",
   "execution_count": 17,
   "metadata": {
    "collapsed": false
   },
   "outputs": [
    {
     "name": "stdout",
     "output_type": "stream",
     "text": [
      "(7719955, 3)\n",
      "precentage taken: 0.3333333333333333\n",
      "minimal score taken: 1.0352447964700002\n"
     ]
    }
   ],
   "source": [
    "#take only highest scored ad_on_doc\n",
    "document_on_ad_document_ctr_topics = document_on_ad_document_ctr[:document_on_ad_document_ctr.shape[0] / score_cut_topic]\n",
    "print document_on_ad_document_ctr_topics.shape\n",
    "print 'precentage taken: ' + repr(float(document_on_ad_document_ctr_topics.shape[0]) / document_on_ad_document_ctr.shape[0])\n",
    "print 'minimal score taken: ' + repr(document_on_ad_document_ctr_topics.score.min())"
   ]
  },
  {
   "cell_type": "code",
   "execution_count": 18,
   "metadata": {
    "collapsed": false
   },
   "outputs": [
    {
     "name": "stdout",
     "output_type": "stream",
     "text": [
      "    document_id  topic_id\n",
      "10      1617787       113\n",
      "16      1615583        89\n",
      "25      1614235       108\n",
      "32      1488264       113\n",
      "37      1614048       260\n",
      "   document_id  ad_document_id     score\n",
      "0      1026091          898071  7.518608\n",
      "1       961361         1290377  7.247171\n",
      "2       961313         1585630  7.202495\n",
      "3      2115556         1418830  7.192435\n",
      "4      1976713          973567  7.044363\n"
     ]
    }
   ],
   "source": [
    "print documents_topics_reduced.head()\n",
    "print document_on_ad_document_ctr_topics.head()"
   ]
  },
  {
   "cell_type": "code",
   "execution_count": 19,
   "metadata": {
    "collapsed": false
   },
   "outputs": [],
   "source": [
    "#merge with category ids of doc and ad\n",
    "document_on_ad_document_ctr_topics = document_on_ad_document_ctr_topics.merge(documents_topics_reduced, how='left', on='document_id')\n",
    "documents_topics_reduced.rename(columns={'document_id': 'ad_document_id'}, inplace=True)\n",
    "document_on_ad_document_ctr_topics = document_on_ad_document_ctr_topics.merge(documents_topics_reduced, how='left', on='ad_document_id', suffixes=('_doc','_ad'))"
   ]
  },
  {
   "cell_type": "code",
   "execution_count": 20,
   "metadata": {
    "collapsed": false
   },
   "outputs": [
    {
     "name": "stdout",
     "output_type": "stream",
     "text": [
      "document_id             0\n",
      "ad_document_id          0\n",
      "score                   0\n",
      "topic_id_doc      5823685\n",
      "topic_id_ad       4166173\n",
      "dtype: int64\n",
      "(7719955, 5)\n"
     ]
    }
   ],
   "source": [
    "print document_on_ad_document_ctr_topics.isnull().sum()\n",
    "print document_on_ad_document_ctr_topics.shape"
   ]
  },
  {
   "cell_type": "code",
   "execution_count": 21,
   "metadata": {
    "collapsed": true
   },
   "outputs": [],
   "source": [
    "#drop lines with nulls, ad_id and doc_id columns\n",
    "document_on_ad_document_ctr_topics = document_on_ad_document_ctr_topics.dropna()\n",
    "document_on_ad_document_ctr_topics.drop(document_on_ad_document_ctr_topics.columns[[0,1]],axis = 1,inplace=True)\n",
    "document_on_ad_document_ctr_topics.reset_index(drop=True, inplace=True)"
   ]
  },
  {
   "cell_type": "code",
   "execution_count": 22,
   "metadata": {
    "collapsed": false
   },
   "outputs": [
    {
     "name": "stdout",
     "output_type": "stream",
     "text": [
      "(883558, 3)\n",
      "299\n",
      "295\n"
     ]
    }
   ],
   "source": [
    "print document_on_ad_document_ctr_topics.shape\n",
    "print len(document_on_ad_document_ctr_topics.topic_id_doc.unique())\n",
    "print len(document_on_ad_document_ctr_topics.topic_id_ad.unique())"
   ]
  },
  {
   "cell_type": "code",
   "execution_count": 23,
   "metadata": {
    "collapsed": true
   },
   "outputs": [],
   "source": [
    "#put lower category_id of both on left side\n",
    "for i, row in enumerate(document_on_ad_document_ctr_topics.itertuples()):\n",
    "    if row.topic_id_doc > row.topic_id_ad:\n",
    "        ad = row.topic_id_ad\n",
    "        doc = row.topic_id_doc\n",
    "        document_on_ad_document_ctr_topics.set_value(i,'topic_id_doc', ad)\n",
    "        document_on_ad_document_ctr_topics.set_value(i,'topic_id_ad', doc)\n",
    "document_on_ad_document_ctr_topics.rename(columns={'topic_id_doc' : 'topic_id_l', 'topic_id_ad' : 'topic_id_r'},inplace=True)"
   ]
  },
  {
   "cell_type": "code",
   "execution_count": 24,
   "metadata": {
    "collapsed": false
   },
   "outputs": [
    {
     "name": "stdout",
     "output_type": "stream",
     "text": [
      "   topic_id_l  topic_id_r  count  mean_score\n",
      "0         0.0         0.0      5    1.472634\n",
      "1         0.0         1.0      9    1.452768\n",
      "2         0.0         2.0      9    1.528525\n",
      "3         0.0         3.0      2    1.470104\n",
      "4         0.0         4.0      2    1.569843\n",
      "298\n",
      "298\n",
      "1.46419991871\n",
      "3.79956115624\n",
      "(31704, 4)\n"
     ]
    }
   ],
   "source": [
    "#count how many times each pair shows, and reduce by number of shows\n",
    "#keep top 20% score even if count is 1\n",
    "high_score = document_on_ad_document_ctr_topics.score.quantile(q=0.8, interpolation='higher')\n",
    "doc_ad_doc_count = document_on_ad_document_ctr_topics.groupby(['topic_id_l','topic_id_r']).score.agg({'mean_score' : 'mean', 'count' : 'count'}).reset_index()\n",
    "doc_ad_doc_count = doc_ad_doc_count[(doc_ad_doc_count['count'] > 1) | (doc_ad_doc_count['mean_score'] > high_score)]\n",
    "print doc_ad_doc_count.head()\n",
    "print len(doc_ad_doc_count.topic_id_l.unique())\n",
    "print len(doc_ad_doc_count.topic_id_r.unique())\n",
    "print doc_ad_doc_count.mean_score.mean()\n",
    "print doc_ad_doc_count.mean_score.max()\n",
    "print doc_ad_doc_count.shape"
   ]
  },
  {
   "cell_type": "code",
   "execution_count": 25,
   "metadata": {
    "collapsed": true
   },
   "outputs": [],
   "source": [
    "#create a dictionary, for each tuple (x_category,y_category) where x_category < y_category return the mean_score\n",
    "dict_topic = {}\n",
    "for row in doc_ad_doc_count.itertuples():\n",
    "    key = (row.topic_id_l,row.topic_id_r)\n",
    "    key_r = (row.topic_id_r,row.topic_id_l)\n",
    "    score = row.mean_score\n",
    "    dict_topic[key] = score\n",
    "    dict_topic[key_r] = score"
   ]
  },
  {
   "cell_type": "code",
   "execution_count": 26,
   "metadata": {
    "collapsed": true
   },
   "outputs": [],
   "source": [
    "#save dictionary to file\n",
    "with open(path + 'dicts/dict_topic_' + repr(confidence_cut_topic) + '_' + repr(score_cut_topic), 'ab') as handle:\n",
    "    pickle.dump(dict_topic, handle)"
   ]
  },
  {
   "cell_type": "code",
   "execution_count": null,
   "metadata": {
    "collapsed": true
   },
   "outputs": [],
   "source": []
  }
 ],
 "metadata": {
  "anaconda-cloud": {},
  "kernelspec": {
   "display_name": "Python [default]",
   "language": "python",
   "name": "python2"
  },
  "language_info": {
   "codemirror_mode": {
    "name": "ipython",
    "version": 2
   },
   "file_extension": ".py",
   "mimetype": "text/x-python",
   "name": "python",
   "nbconvert_exporter": "python",
   "pygments_lexer": "ipython2",
   "version": "2.7.12"
  }
 },
 "nbformat": 4,
 "nbformat_minor": 1
}
