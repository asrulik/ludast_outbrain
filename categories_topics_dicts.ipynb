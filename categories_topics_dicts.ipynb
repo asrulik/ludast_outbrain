{
 "cells": [
  {
   "cell_type": "code",
   "execution_count": 1,
   "metadata": {
    "collapsed": false
   },
   "outputs": [],
   "source": [
    "#threshold confidence level to keep\n",
    "confidence_cut_category = 0.4\n",
    "confidence_cut_topic = 0.2\n",
    "\n",
    "#which portion of top scores to take, takes 1/parameter highest scores\n",
    "score_cut_category = 3\n",
    "score_cut_topic = 3"
   ]
  },
  {
   "cell_type": "code",
   "execution_count": 2,
   "metadata": {
    "collapsed": true
   },
   "outputs": [],
   "source": [
    "import numpy as np\n",
    "import pandas as p\n",
    "import pickle\n",
    "import os\n",
    "\n",
    "#directory path\n",
    "path = os.getcwd() + '/'\n",
    "path_t = path + 'source_tables/'\n",
    "path_b = path_t + 'built/'\n",
    "\n",
    "document_on_ad_document_ctr = p.read_csv(path_b + 'document_on_ad_document_ctr.csv', dtype={'document_id': int, 'ad_document_id':int, 'score_docXad_doc': float})\n",
    "documents_categories = p.read_csv(path_t + 'documents_categories.csv', dtype = {'document_id':int, 'category_id':int, 'confidence_level':float})\n",
    "documents_topics = p.read_csv(path_t + 'documents_topics.csv', dtype = {'document_id':int, 'topic_id':int, 'confidence_level':float})"
   ]
  },
  {
   "cell_type": "code",
   "execution_count": 3,
   "metadata": {
    "collapsed": false
   },
   "outputs": [
    {
     "name": "stdout",
     "output_type": "stream",
     "text": [
      "   document_id  ad_document_id  score_docXad_doc\n",
      "0      1035814         1637653          8.699057\n",
      "1       961313         1585630          7.336971\n",
      "2       961361         1290377          7.295931\n",
      "3       961255         1585630          6.758153\n",
      "4      1675109         1378725          6.728123\n"
     ]
    }
   ],
   "source": [
    "print document_on_ad_document_ctr.head()"
   ]
  },
  {
   "cell_type": "code",
   "execution_count": 4,
   "metadata": {
    "collapsed": false
   },
   "outputs": [],
   "source": [
    "#get only highest confidence topic and category\n",
    "max_rows = documents_categories.groupby(['document_id'])['confidence_level'].transform(max) == documents_categories['confidence_level']\n",
    "documents_categories = documents_categories[max_rows].drop_duplicates(subset = ['document_id','confidence_level'],keep = 'last')\n",
    "max_rows = documents_topics.groupby(['document_id'])['confidence_level'].transform(max) == documents_topics['confidence_level']\n",
    "documents_topics = documents_topics[max_rows].drop_duplicates(subset = ['document_id','confidence_level'],keep = 'last')\n",
    "del max_rows"
   ]
  },
  {
   "cell_type": "code",
   "execution_count": 5,
   "metadata": {
    "collapsed": false
   },
   "outputs": [
    {
     "name": "stdout",
     "output_type": "stream",
     "text": [
      "category ids precent: 1.0\n",
      "unique category ids: 95\n"
     ]
    }
   ],
   "source": [
    "#remove category ids below a certain confidence level and merge promoted with documents_categories_reduced\n",
    "documents_categories_reduced = documents_categories[documents_categories['confidence_level'] > confidence_cut_category].drop('confidence_level', axis = 1)\n",
    "print 'category ids precent: ' + repr(float(len(documents_categories_reduced.category_id.unique())) / len(documents_categories.category_id.unique()))\n",
    "print 'unique category ids: ' + repr(len(documents_categories_reduced.category_id.unique()))"
   ]
  },
  {
   "cell_type": "code",
   "execution_count": 6,
   "metadata": {
    "collapsed": false
   },
   "outputs": [
    {
     "name": "stdout",
     "output_type": "stream",
     "text": [
      "(1756301, 3)\n",
      "precentage taken: 0.3333332068048295\n",
      "minimal score taken: 1.0398778317299999\n"
     ]
    }
   ],
   "source": [
    "#take only highest scored ad_on_doc\n",
    "document_on_ad_document_ctr_categories = document_on_ad_document_ctr[:document_on_ad_document_ctr.shape[0] / score_cut_category]\n",
    "print document_on_ad_document_ctr_categories.shape\n",
    "print 'precentage taken: ' + repr(float(document_on_ad_document_ctr_categories.shape[0]) / document_on_ad_document_ctr.shape[0])\n",
    "print 'minimal score taken: ' + repr(document_on_ad_document_ctr_categories.score_docXad_doc.min())"
   ]
  },
  {
   "cell_type": "code",
   "execution_count": 7,
   "metadata": {
    "collapsed": false
   },
   "outputs": [
    {
     "name": "stdout",
     "output_type": "stream",
     "text": [
      "   document_id  category_id\n",
      "0      1595802         1611\n",
      "2      1524246         1807\n",
      "4      1617787         1807\n",
      "6      1615583         1305\n",
      "8      1615460         1613\n",
      "   document_id  ad_document_id  score_docXad_doc\n",
      "0      1035814         1637653          8.699057\n",
      "1       961313         1585630          7.336971\n",
      "2       961361         1290377          7.295931\n",
      "3       961255         1585630          6.758153\n",
      "4      1675109         1378725          6.728123\n"
     ]
    }
   ],
   "source": [
    "print documents_categories_reduced.head()\n",
    "print document_on_ad_document_ctr_categories.head()"
   ]
  },
  {
   "cell_type": "code",
   "execution_count": 8,
   "metadata": {
    "collapsed": false
   },
   "outputs": [],
   "source": [
    "#merge with category ids of doc and ad\n",
    "document_on_ad_document_ctr_categories = document_on_ad_document_ctr_categories.merge(documents_categories_reduced, how='left', on='document_id')\n",
    "documents_categories_reduced.rename(columns={'document_id': 'ad_document_id'}, inplace=True)\n",
    "document_on_ad_document_ctr_categories = document_on_ad_document_ctr_categories.merge(documents_categories_reduced, how='left', on='ad_document_id', suffixes=('_doc','_ad'))"
   ]
  },
  {
   "cell_type": "code",
   "execution_count": 9,
   "metadata": {
    "collapsed": false
   },
   "outputs": [
    {
     "data": {
      "text/plain": [
       "document_id              0\n",
       "ad_document_id           0\n",
       "score_docXad_doc         0\n",
       "category_id_doc     289615\n",
       "category_id_ad      177871\n",
       "dtype: int64"
      ]
     },
     "execution_count": 9,
     "metadata": {},
     "output_type": "execute_result"
    }
   ],
   "source": [
    "document_on_ad_document_ctr_categories.isnull().sum()"
   ]
  },
  {
   "cell_type": "code",
   "execution_count": 10,
   "metadata": {
    "collapsed": false
   },
   "outputs": [],
   "source": [
    "#drop lines with nulls, ad_id and doc_id columns\n",
    "document_on_ad_document_ctr_categories = document_on_ad_document_ctr_categories.dropna()\n",
    "document_on_ad_document_ctr_categories.drop(document_on_ad_document_ctr_categories.columns[[0,1]],axis = 1,inplace=True)\n",
    "document_on_ad_document_ctr_categories.reset_index(drop=True, inplace=True)"
   ]
  },
  {
   "cell_type": "code",
   "execution_count": 11,
   "metadata": {
    "collapsed": false
   },
   "outputs": [
    {
     "name": "stdout",
     "output_type": "stream",
     "text": [
      "(1318694, 3)\n",
      "89\n",
      "92\n"
     ]
    }
   ],
   "source": [
    "print document_on_ad_document_ctr_categories.shape\n",
    "print len(document_on_ad_document_ctr_categories.category_id_doc.unique())\n",
    "print len(document_on_ad_document_ctr_categories.category_id_ad.unique())"
   ]
  },
  {
   "cell_type": "code",
   "execution_count": 12,
   "metadata": {
    "collapsed": false
   },
   "outputs": [],
   "source": [
    "#put lower category_id of both on left side\n",
    "for i, row in enumerate(document_on_ad_document_ctr_categories.itertuples()):\n",
    "    if row.category_id_doc > row.category_id_ad:\n",
    "        ad = row.category_id_ad\n",
    "        doc = row.category_id_doc\n",
    "        document_on_ad_document_ctr_categories.set_value(i,'category_id_doc', ad)\n",
    "        document_on_ad_document_ctr_categories.set_value(i,'category_id_ad', doc)\n",
    "document_on_ad_document_ctr_categories.rename(columns={'category_id_doc' : 'category_id_l', 'category_id_ad' : 'category_id_r'},inplace=True)"
   ]
  },
  {
   "cell_type": "code",
   "execution_count": 13,
   "metadata": {
    "collapsed": false
   },
   "outputs": [
    {
     "name": "stdout",
     "output_type": "stream",
     "text": [
      "   category_id_l  category_id_r  count  mean_score\n",
      "0         1000.0         1000.0     77    1.476211\n",
      "1         1000.0         1100.0     41    1.489204\n",
      "3         1000.0         1203.0      6    1.409193\n",
      "4         1000.0         1204.0      7    1.460781\n",
      "5         1000.0         1205.0     53    1.497919\n",
      "92\n",
      "91\n",
      "1.48418418609\n",
      "2.50236048877\n",
      "(3608, 4)\n"
     ]
    }
   ],
   "source": [
    "#count how many times each pair shows, and reduce by number of shows\n",
    "#keep top 20% score even if count is 1\n",
    "high_score = document_on_ad_document_ctr_categories.score_docXad_doc.quantile(q=0.8, interpolation='higher')\n",
    "doc_ad_doc_count = document_on_ad_document_ctr_categories.groupby(['category_id_l','category_id_r']).score_docXad_doc.agg({'mean_score' : 'mean', 'count' : 'count'}).reset_index()\n",
    "doc_ad_doc_count = doc_ad_doc_count[(doc_ad_doc_count['count'] > 1) | (doc_ad_doc_count['mean_score'] > high_score)]\n",
    "print doc_ad_doc_count.head()\n",
    "print len(doc_ad_doc_count.category_id_l.unique())\n",
    "print len(doc_ad_doc_count.category_id_r.unique())\n",
    "print doc_ad_doc_count.mean_score.mean()\n",
    "print doc_ad_doc_count.mean_score.max()\n",
    "print doc_ad_doc_count.shape"
   ]
  },
  {
   "cell_type": "code",
   "execution_count": 14,
   "metadata": {
    "collapsed": false
   },
   "outputs": [],
   "source": [
    "#create a dictionary, for each tuple (x_category,y_category) where x_category < y_category return the mean_score\n",
    "dict_category = {}\n",
    "for row in doc_ad_doc_count.itertuples():\n",
    "    key = (row.category_id_l,row.category_id_r)\n",
    "    key_r = (row.category_id_r,row.category_id_l)\n",
    "    score = row.mean_score\n",
    "    dict_category[key] = score\n",
    "    dict_category[key_r] = score"
   ]
  },
  {
   "cell_type": "code",
   "execution_count": 15,
   "metadata": {
    "collapsed": false
   },
   "outputs": [],
   "source": [
    "#save dictionary to file\n",
    "with open(path + 'dicts/dict_category_' + repr(confidence_cut_category) + '_' + repr(score_cut_category), 'ab') as handle:\n",
    "    pickle.dump(dict_category, handle)"
   ]
  },
  {
   "cell_type": "code",
   "execution_count": null,
   "metadata": {
    "collapsed": true
   },
   "outputs": [],
   "source": [
    "#from here same procedure for the topics"
   ]
  },
  {
   "cell_type": "code",
   "execution_count": 16,
   "metadata": {
    "collapsed": false
   },
   "outputs": [
    {
     "name": "stdout",
     "output_type": "stream",
     "text": [
      "topics ids precent: 0.9966666666666667\n",
      "unique topics ids: 299\n"
     ]
    }
   ],
   "source": [
    "#remove category ids below a certain confidence level and merge promoted with documents_categories_reduced\n",
    "documents_topics_reduced = documents_topics[documents_topics['confidence_level'] > confidence_cut_topic].drop('confidence_level', axis = 1)\n",
    "print 'topics ids precent: ' + repr(float(len(documents_topics_reduced.topic_id.unique())) / len(documents_topics.topic_id.unique()))\n",
    "print 'unique topics ids: ' + repr(len(documents_topics_reduced.topic_id.unique()))"
   ]
  },
  {
   "cell_type": "code",
   "execution_count": 17,
   "metadata": {
    "collapsed": false
   },
   "outputs": [
    {
     "name": "stdout",
     "output_type": "stream",
     "text": [
      "(1756301, 3)\n",
      "precentage taken: 0.3333332068048295\n",
      "minimal score taken: 1.0398778317299999\n"
     ]
    }
   ],
   "source": [
    "#take only highest scored ad_on_doc\n",
    "document_on_ad_document_ctr_topics = document_on_ad_document_ctr[:document_on_ad_document_ctr.shape[0] / score_cut_topic]\n",
    "print document_on_ad_document_ctr_topics.shape\n",
    "print 'precentage taken: ' + repr(float(document_on_ad_document_ctr_topics.shape[0]) / document_on_ad_document_ctr.shape[0])\n",
    "print 'minimal score taken: ' + repr(document_on_ad_document_ctr_topics.score_docXad_doc.min())"
   ]
  },
  {
   "cell_type": "code",
   "execution_count": 18,
   "metadata": {
    "collapsed": false
   },
   "outputs": [
    {
     "name": "stdout",
     "output_type": "stream",
     "text": [
      "    document_id  topic_id\n",
      "10      1617787       113\n",
      "16      1615583        89\n",
      "25      1614235       108\n",
      "32      1488264       113\n",
      "37      1614048       260\n",
      "   document_id  ad_document_id  score_docXad_doc\n",
      "0      1035814         1637653          8.699057\n",
      "1       961313         1585630          7.336971\n",
      "2       961361         1290377          7.295931\n",
      "3       961255         1585630          6.758153\n",
      "4      1675109         1378725          6.728123\n"
     ]
    }
   ],
   "source": [
    "print documents_topics_reduced.head()\n",
    "print document_on_ad_document_ctr_topics.head()"
   ]
  },
  {
   "cell_type": "code",
   "execution_count": 19,
   "metadata": {
    "collapsed": false
   },
   "outputs": [],
   "source": [
    "#merge with category ids of doc and ad\n",
    "document_on_ad_document_ctr_topics = document_on_ad_document_ctr_topics.merge(documents_topics_reduced, how='left', on='document_id')\n",
    "documents_topics_reduced.rename(columns={'document_id': 'ad_document_id'}, inplace=True)\n",
    "document_on_ad_document_ctr_topics = document_on_ad_document_ctr_topics.merge(documents_topics_reduced, how='left', on='ad_document_id', suffixes=('_doc','_ad'))"
   ]
  },
  {
   "cell_type": "code",
   "execution_count": 20,
   "metadata": {
    "collapsed": false
   },
   "outputs": [
    {
     "name": "stdout",
     "output_type": "stream",
     "text": [
      "document_id               0\n",
      "ad_document_id            0\n",
      "score_docXad_doc          0\n",
      "topic_id_doc        1477370\n",
      "topic_id_ad          941269\n",
      "dtype: int64\n",
      "(1756301, 5)\n"
     ]
    }
   ],
   "source": [
    "print document_on_ad_document_ctr_topics.isnull().sum()\n",
    "print document_on_ad_document_ctr_topics.shape"
   ]
  },
  {
   "cell_type": "code",
   "execution_count": 21,
   "metadata": {
    "collapsed": true
   },
   "outputs": [],
   "source": [
    "#drop lines with nulls, ad_id and doc_id columns\n",
    "document_on_ad_document_ctr_topics = document_on_ad_document_ctr_topics.dropna()\n",
    "document_on_ad_document_ctr_topics.drop(document_on_ad_document_ctr_topics.columns[[0,1]],axis = 1,inplace=True)\n",
    "document_on_ad_document_ctr_topics.reset_index(drop=True, inplace=True)"
   ]
  },
  {
   "cell_type": "code",
   "execution_count": 22,
   "metadata": {
    "collapsed": false
   },
   "outputs": [
    {
     "name": "stdout",
     "output_type": "stream",
     "text": [
      "(132709, 3)\n",
      "294\n",
      "287\n"
     ]
    }
   ],
   "source": [
    "print document_on_ad_document_ctr_topics.shape\n",
    "print len(document_on_ad_document_ctr_topics.topic_id_doc.unique())\n",
    "print len(document_on_ad_document_ctr_topics.topic_id_ad.unique())"
   ]
  },
  {
   "cell_type": "code",
   "execution_count": 23,
   "metadata": {
    "collapsed": true
   },
   "outputs": [],
   "source": [
    "#put lower category_id of both on left side\n",
    "for i, row in enumerate(document_on_ad_document_ctr_topics.itertuples()):\n",
    "    if row.topic_id_doc > row.topic_id_ad:\n",
    "        ad = row.topic_id_ad\n",
    "        doc = row.topic_id_doc\n",
    "        document_on_ad_document_ctr_topics.set_value(i,'topic_id_doc', ad)\n",
    "        document_on_ad_document_ctr_topics.set_value(i,'topic_id_ad', doc)\n",
    "document_on_ad_document_ctr_topics.rename(columns={'topic_id_doc' : 'topic_id_l', 'topic_id_ad' : 'topic_id_r'},inplace=True)"
   ]
  },
  {
   "cell_type": "code",
   "execution_count": 24,
   "metadata": {
    "collapsed": false
   },
   "outputs": [
    {
     "name": "stdout",
     "output_type": "stream",
     "text": [
      "   topic_id_l  topic_id_r  count  mean_score\n",
      "2         0.0         2.0      2    1.646473\n",
      "4         0.0         6.0      7    1.471214\n",
      "5         0.0         8.0      3    1.223914\n",
      "6         0.0         9.0      3    1.614837\n",
      "7         0.0        10.0      3    1.717281\n",
      "284\n",
      "280\n",
      "1.52822088409\n",
      "3.54913914303\n",
      "(11467, 4)\n"
     ]
    }
   ],
   "source": [
    "#count how many times each pair shows, and reduce by number of shows\n",
    "#keep top 20% score even if count is 1\n",
    "high_score = document_on_ad_document_ctr_topics.score_docXad_doc.quantile(q=0.8, interpolation='higher')\n",
    "doc_ad_doc_count = document_on_ad_document_ctr_topics.groupby(['topic_id_l','topic_id_r']).score_docXad_doc.agg({'mean_score' : 'mean', 'count' : 'count'}).reset_index()\n",
    "doc_ad_doc_count = doc_ad_doc_count[(doc_ad_doc_count['count'] > 1) | (doc_ad_doc_count['mean_score'] > high_score)]\n",
    "print doc_ad_doc_count.head()\n",
    "print len(doc_ad_doc_count.topic_id_l.unique())\n",
    "print len(doc_ad_doc_count.topic_id_r.unique())\n",
    "print doc_ad_doc_count.mean_score.mean()\n",
    "print doc_ad_doc_count.mean_score.max()\n",
    "print doc_ad_doc_count.shape"
   ]
  },
  {
   "cell_type": "code",
   "execution_count": 25,
   "metadata": {
    "collapsed": true
   },
   "outputs": [],
   "source": [
    "#create a dictionary, for each tuple (x_category,y_category) where x_category < y_category return the mean_score\n",
    "dict_topic = {}\n",
    "for row in doc_ad_doc_count.itertuples():\n",
    "    key = (row.topic_id_l,row.topic_id_r)\n",
    "    key_r = (row.topic_id_r,row.topic_id_l)\n",
    "    score = row.mean_score\n",
    "    dict_topic[key] = score\n",
    "    dict_topic[key_r] = score"
   ]
  },
  {
   "cell_type": "code",
   "execution_count": 26,
   "metadata": {
    "collapsed": true
   },
   "outputs": [],
   "source": [
    "#save dictionary to file\n",
    "with open(path + 'dicts/dict_topic_' + repr(confidence_cut_topic) + '_' + repr(score_cut_topic), 'ab') as handle:\n",
    "    pickle.dump(dict_topic, handle)"
   ]
  },
  {
   "cell_type": "code",
   "execution_count": null,
   "metadata": {
    "collapsed": true
   },
   "outputs": [],
   "source": []
  }
 ],
 "metadata": {
  "anaconda-cloud": {},
  "kernelspec": {
   "display_name": "Python [default]",
   "language": "python",
   "name": "python2"
  },
  "language_info": {
   "codemirror_mode": {
    "name": "ipython",
    "version": 2
   },
   "file_extension": ".py",
   "mimetype": "text/x-python",
   "name": "python",
   "nbconvert_exporter": "python",
   "pygments_lexer": "ipython2",
   "version": "2.7.12"
  }
 },
 "nbformat": 4,
 "nbformat_minor": 1
}
